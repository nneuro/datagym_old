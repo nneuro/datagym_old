{
 "cells": [
  {
   "cell_type": "code",
   "execution_count": 127,
   "metadata": {},
   "outputs": [],
   "source": [
    "import pandas as pd\n",
    "import numpy as np\n",
    "import pandas_profiling as ppf\n",
    "from collections import Counter"
   ]
  },
  {
   "cell_type": "code",
   "execution_count": 112,
   "metadata": {},
   "outputs": [],
   "source": [
    "df_train = pd.read_csv('train.csv', sep=';')"
   ]
  },
  {
   "cell_type": "code",
   "execution_count": 113,
   "metadata": {},
   "outputs": [],
   "source": [
    "rubrics = {\n",
    "    'Аренда':0,\n",
    "    'Продажа':1\n",
    "    }\n",
    "\n",
    "df_train['Rubrics'] = df_train['Рубрика'].map(rubrics)"
   ]
  },
  {
   "cell_type": "code",
   "execution_count": 114,
   "metadata": {},
   "outputs": [],
   "source": [
    "# df_train = pd.concat([df_train, pd.get_dummies(df_train['Количество комнат'], drop_first=True)], axis=1)\n",
    "rooms = {\n",
    "    'комната':0.5,\n",
    "    '1':1,\n",
    "    '2':2,\n",
    "    '3':3,\n",
    "    '4':4,\n",
    "    '5':5\n",
    "}\n",
    "df_train['Количество комнат'] = df_train['Количество комнат'].map(rooms)"
   ]
  },
  {
   "cell_type": "code",
   "execution_count": 115,
   "metadata": {},
   "outputs": [],
   "source": [
    "remont = {\n",
    "    'хорошее':1,\n",
    "    'в отличном состоянии':1,\n",
    "    'требует косметического ремонта':0,\n",
    "    'требует капитального ремонта':0\n",
    "}\n",
    "\n",
    "df_train['Ремонт'] = df_train['Ремонт'].map(remont)\n",
    "df_train['Ремонт'].fillna(df_train['Ремонт'].median(), inplace=True)"
   ]
  },
  {
   "cell_type": "code",
   "execution_count": 116,
   "metadata": {},
   "outputs": [],
   "source": [
    "materials = {\n",
    "    'кирпич':'кирпич',\n",
    "    'панель':'монолит',\n",
    "    'кирпич - монолит':'монолит',\n",
    "    'монолит':'монолит',\n",
    "    'бетонные блоки - монолит':'монолит',\n",
    "    'бетонные блоки':'монолит',\n",
    "    'шлакоблоки':'монолит',\n",
    "    'дерево':'дерево', \n",
    "    'сборный железобетон':'монолит',\n",
    "    'кирпич-монолит':'монолит',\n",
    "    'силикатные блоки':'монолит'\n",
    "    }\n",
    "\n",
    "df_train['Материал дома'] = df_train['Материал дома'].map(materials)\n",
    "materials_nums = {\n",
    "    'кирпич':1,\n",
    "    'монолит':2,\n",
    "    'дерево':3\n",
    "    }\n",
    "df_train['Материал дома'] = df_train['Материал дома'].map(materials_nums)\n",
    "df_train['Материал дома'] = df_train['Материал дома'].fillna(0)"
   ]
  },
  {
   "cell_type": "code",
   "execution_count": 121,
   "metadata": {},
   "outputs": [],
   "source": [
    "list_for_fill_nulls = [\n",
    "    'Наличие мебели',\n",
    "    'Наличие холодильника',\n",
    "    'Интернет',\n",
    "    'Торг',\n",
    "    'Жилая площадь',\n",
    "    'Площадь кухни',\n",
    "    'Внесен задаток',\n",
    "    'Возможен обмен',\n",
    "    'Ипотека',\n",
    "    'Коммунальные платежи включены',\n",
    "    'Находится в залоге',\n",
    "    'Чистая продажа'\n",
    "    ]\n",
    "for feature in list_for_fill_nulls:\n",
    "    df_train[feature] = df_train[feature].fillna(0)"
   ]
  },
  {
   "cell_type": "code",
   "execution_count": 125,
   "metadata": {},
   "outputs": [],
   "source": [
    "df_train['Общая площадь'] = df_train['Общая площадь'].fillna(df_train['Общая площадь'].mean())\n",
    "df_train['Год сдачи'] = df_train['Год сдачи'].fillna(df_train['Год сдачи'].mean()) #не уверена, что хорошее решение"
   ]
  },
  {
   "cell_type": "code",
   "execution_count": 124,
   "metadata": {},
   "outputs": [],
   "source": [
    "bathrooms = {\n",
    "    'другое':0,\n",
    "    'совмещенный':1, \n",
    "    'раздельный':2,\t \n",
    "    'несколько':3\n",
    "    }\n",
    "\n",
    "df_train['Санузел'] = df_train['Санузел'].map(bathrooms)\n",
    "df_train['Санузел'] = df_train['Санузел'].fillna(0)"
   ]
  },
  {
   "cell_type": "code",
   "execution_count": 126,
   "metadata": {},
   "outputs": [],
   "source": [
    "def more_five(x):\n",
    "    if x < 5:\n",
    "        x = x\n",
    "    else:\n",
    "        x = 100\n",
    "    return x\n",
    "\n",
    "list_for_five = [\n",
    "    'Количество балконов',\n",
    "    'Количество лоджий',\n",
    "    'Количество фотографий'\n",
    "    ]\n",
    "\n",
    "for feature in list_for_five:\n",
    "    df_train[feature] = df_train[feature].map(more_five)"
   ]
  },
  {
   "cell_type": "code",
   "execution_count": 134,
   "metadata": {},
   "outputs": [
    {
     "ename": "KeyboardInterrupt",
     "evalue": "",
     "output_type": "error",
     "traceback": [
      "\u001b[1;31m---------------------------------------------------------------------------\u001b[0m",
      "\u001b[1;31mKeyboardInterrupt\u001b[0m                         Traceback (most recent call last)",
      "\u001b[1;32m<ipython-input-134-12f3207ea4f3>\u001b[0m in \u001b[0;36m<module>\u001b[1;34m\u001b[0m\n\u001b[0;32m     14\u001b[0m \u001b[1;33m\u001b[0m\u001b[0m\n\u001b[0;32m     15\u001b[0m \u001b[1;33m\u001b[0m\u001b[0m\n\u001b[1;32m---> 16\u001b[1;33m \u001b[0mdf_train\u001b[0m\u001b[1;33m[\u001b[0m\u001b[1;34m'Город'\u001b[0m\u001b[1;33m]\u001b[0m \u001b[1;33m=\u001b[0m \u001b[0mdf_train\u001b[0m\u001b[1;33m[\u001b[0m\u001b[1;34m'Город'\u001b[0m\u001b[1;33m]\u001b[0m\u001b[1;33m.\u001b[0m\u001b[0mmap\u001b[0m\u001b[1;33m(\u001b[0m\u001b[0mcity\u001b[0m\u001b[1;33m)\u001b[0m\u001b[1;33m\u001b[0m\u001b[1;33m\u001b[0m\u001b[0m\n\u001b[0m\u001b[0;32m     17\u001b[0m \u001b[1;31m# df_train = pd.concat([df_train, pd.get_dummies(df_train['Город'], drop_first=True)], axis=1)\u001b[0m\u001b[1;33m\u001b[0m\u001b[1;33m\u001b[0m\u001b[1;33m\u001b[0m\u001b[0m\n\u001b[0;32m     18\u001b[0m \u001b[1;31m# df_train = df_train.drop('Город', axis=1)\u001b[0m\u001b[1;33m\u001b[0m\u001b[1;33m\u001b[0m\u001b[1;33m\u001b[0m\u001b[0m\n",
      "\u001b[1;32mC:\\ProgramData\\Anaconda3\\lib\\site-packages\\pandas\\core\\series.py\u001b[0m in \u001b[0;36mmap\u001b[1;34m(self, arg, na_action)\u001b[0m\n\u001b[0;32m   2996\u001b[0m         \"\"\"\n\u001b[0;32m   2997\u001b[0m         new_values = super(Series, self)._map_values(\n\u001b[1;32m-> 2998\u001b[1;33m             arg, na_action=na_action)\n\u001b[0m\u001b[0;32m   2999\u001b[0m         return self._constructor(new_values,\n\u001b[0;32m   3000\u001b[0m                                  index=self.index).__finalize__(self)\n",
      "\u001b[1;32mC:\\ProgramData\\Anaconda3\\lib\\site-packages\\pandas\\core\\base.py\u001b[0m in \u001b[0;36m_map_values\u001b[1;34m(self, mapper, na_action)\u001b[0m\n\u001b[0;32m   1002\u001b[0m \u001b[1;33m\u001b[0m\u001b[0m\n\u001b[0;32m   1003\u001b[0m         \u001b[1;31m# mapper is a function\u001b[0m\u001b[1;33m\u001b[0m\u001b[1;33m\u001b[0m\u001b[1;33m\u001b[0m\u001b[0m\n\u001b[1;32m-> 1004\u001b[1;33m         \u001b[0mnew_values\u001b[0m \u001b[1;33m=\u001b[0m \u001b[0mmap_f\u001b[0m\u001b[1;33m(\u001b[0m\u001b[0mvalues\u001b[0m\u001b[1;33m,\u001b[0m \u001b[0mmapper\u001b[0m\u001b[1;33m)\u001b[0m\u001b[1;33m\u001b[0m\u001b[1;33m\u001b[0m\u001b[0m\n\u001b[0m\u001b[0;32m   1005\u001b[0m \u001b[1;33m\u001b[0m\u001b[0m\n\u001b[0;32m   1006\u001b[0m         \u001b[1;32mreturn\u001b[0m \u001b[0mnew_values\u001b[0m\u001b[1;33m\u001b[0m\u001b[1;33m\u001b[0m\u001b[0m\n",
      "\u001b[1;32mpandas/_libs/src\\inference.pyx\u001b[0m in \u001b[0;36mpandas._libs.lib.map_infer\u001b[1;34m()\u001b[0m\n",
      "\u001b[1;32m<ipython-input-134-12f3207ea4f3>\u001b[0m in \u001b[0;36mcity\u001b[1;34m(city_name)\u001b[0m\n\u001b[0;32m      1\u001b[0m \u001b[1;32mdef\u001b[0m \u001b[0mcity\u001b[0m\u001b[1;33m(\u001b[0m\u001b[0mcity_name\u001b[0m\u001b[1;33m)\u001b[0m\u001b[1;33m:\u001b[0m\u001b[1;33m\u001b[0m\u001b[1;33m\u001b[0m\u001b[0m\n\u001b[1;32m----> 2\u001b[1;33m     \u001b[0mcity_dict\u001b[0m \u001b[1;33m=\u001b[0m \u001b[0mCounter\u001b[0m\u001b[1;33m(\u001b[0m\u001b[0mlist\u001b[0m\u001b[1;33m(\u001b[0m\u001b[0mdf_train\u001b[0m\u001b[1;33m[\u001b[0m\u001b[1;34m'Город'\u001b[0m\u001b[1;33m]\u001b[0m\u001b[1;33m)\u001b[0m\u001b[1;33m)\u001b[0m\u001b[1;33m\u001b[0m\u001b[1;33m\u001b[0m\u001b[0m\n\u001b[0m\u001b[0;32m      3\u001b[0m     \u001b[0mcity_list\u001b[0m \u001b[1;33m=\u001b[0m \u001b[1;33m[\u001b[0m\u001b[1;33m]\u001b[0m\u001b[1;33m\u001b[0m\u001b[1;33m\u001b[0m\u001b[0m\n\u001b[0;32m      4\u001b[0m     \u001b[0mcity_dict_new\u001b[0m \u001b[1;33m=\u001b[0m \u001b[1;33m{\u001b[0m\u001b[1;33m}\u001b[0m\u001b[1;33m\u001b[0m\u001b[1;33m\u001b[0m\u001b[0m\n\u001b[0;32m      5\u001b[0m     \u001b[1;32mfor\u001b[0m \u001b[0mkey\u001b[0m\u001b[1;33m,\u001b[0m \u001b[0mvalue\u001b[0m \u001b[1;32min\u001b[0m \u001b[0mcity_dict\u001b[0m\u001b[1;33m.\u001b[0m\u001b[0mitems\u001b[0m\u001b[1;33m(\u001b[0m\u001b[1;33m)\u001b[0m\u001b[1;33m:\u001b[0m\u001b[1;33m\u001b[0m\u001b[1;33m\u001b[0m\u001b[0m\n",
      "\u001b[1;32mC:\\ProgramData\\Anaconda3\\lib\\collections\\__init__.py\u001b[0m in \u001b[0;36m__init__\u001b[1;34m(*args, **kwds)\u001b[0m\n\u001b[0;32m    546\u001b[0m     \u001b[1;31m#   Knuth, TAOCP Vol. II section 4.6.3\u001b[0m\u001b[1;33m\u001b[0m\u001b[1;33m\u001b[0m\u001b[1;33m\u001b[0m\u001b[0m\n\u001b[0;32m    547\u001b[0m \u001b[1;33m\u001b[0m\u001b[0m\n\u001b[1;32m--> 548\u001b[1;33m     \u001b[1;32mdef\u001b[0m \u001b[0m__init__\u001b[0m\u001b[1;33m(\u001b[0m\u001b[1;33m*\u001b[0m\u001b[0margs\u001b[0m\u001b[1;33m,\u001b[0m \u001b[1;33m**\u001b[0m\u001b[0mkwds\u001b[0m\u001b[1;33m)\u001b[0m\u001b[1;33m:\u001b[0m\u001b[1;33m\u001b[0m\u001b[1;33m\u001b[0m\u001b[0m\n\u001b[0m\u001b[0;32m    549\u001b[0m         '''Create a new, empty Counter object.  And if given, count elements\n\u001b[0;32m    550\u001b[0m         \u001b[1;32mfrom\u001b[0m \u001b[0man\u001b[0m \u001b[0minput\u001b[0m \u001b[0miterable\u001b[0m\u001b[1;33m.\u001b[0m  \u001b[0mOr\u001b[0m\u001b[1;33m,\u001b[0m \u001b[0minitialize\u001b[0m \u001b[0mthe\u001b[0m \u001b[0mcount\u001b[0m \u001b[1;32mfrom\u001b[0m \u001b[0manother\u001b[0m \u001b[0mmapping\u001b[0m\u001b[1;33m\u001b[0m\u001b[1;33m\u001b[0m\u001b[0m\n",
      "\u001b[1;31mKeyboardInterrupt\u001b[0m: "
     ]
    }
   ],
   "source": [
    "\n",
    "# Очень долгая функция \n",
    "\n",
    "\n",
    "\n",
    "def city(city_name):\n",
    "    city_dict = Counter(list(df_train['Город']))\n",
    "    city_list = []\n",
    "    city_dict_new = {}\n",
    "    for key, value in city_dict.items():\n",
    "        if value > 100:\n",
    "            city_list.append(key)\n",
    "#     print(city_list)\n",
    "    if city_name in city_list:\n",
    "        city_dict_new[city_name] = city_name\n",
    "    else:\n",
    "        city_dict_new[city_name] = 'other city'\n",
    "    return city_dict_new\n",
    "     \n",
    "    \n",
    "df_train['Город'] = df_train['Город'].map(city)\n",
    "# df_train = pd.concat([df_train, pd.get_dummies(df_train['Город'], drop_first=True)], axis=1)\n",
    "# df_train = df_train.drop('Город', axis=1)\n",
    "\n",
    "# добавить медиану зарплат по городам (может быть с учетом года)\n",
    "    \n",
    "# df_train = pd.concat([df_train, pd.get_dummies(df_train['Город'], drop_first=True)], axis=1)\n",
    "# df_train = df_train.drop('Город', axis=1)\n",
    "\n"
   ]
  },
  {
   "cell_type": "code",
   "execution_count": null,
   "metadata": {},
   "outputs": [],
   "source": [
    "list_for_ohe = [\n",
    "    'Регион',\n",
    "    'Тип квартиры',\n",
    "    'Форма собственности',\n",
    "    'Планировка',\n",
    "    'Тип дома'\n",
    "    ]\n",
    "for feature in list_for_ohe:\n",
    "    df_train[feature] = pd.concat([df_train, pd.get_dummies(\n",
    "        df_train[feature])], \n",
    "        axis=1)\n",
    "# df_train = df_train.drop(list_for_ohe, axis=1)"
   ]
  },
  {
   "cell_type": "code",
   "execution_count": null,
   "metadata": {},
   "outputs": [],
   "source": [
    "# df_train = pd.concat([df_train, pd.get_dummies(df_train['Регион'], drop_first=True)], axis=1)\n",
    "# df_train = df_train.drop(list_for_ohe, axis=1)"
   ]
  },
  {
   "cell_type": "code",
   "execution_count": null,
   "metadata": {},
   "outputs": [],
   "source": []
  },
  {
   "cell_type": "code",
   "execution_count": 70,
   "metadata": {},
   "outputs": [],
   "source": [
    "# df_train = pd.concat([df_train, pd.get_dummies(df_train['Регион'], drop_first=True)], axis=1)\n",
    "# df_train = df_train.drop('Регион', axis=1)"
   ]
  },
  {
   "cell_type": "code",
   "execution_count": 71,
   "metadata": {},
   "outputs": [],
   "source": [
    "# df_train['Город_рн'] = df_train['Город'] +'_' + df_train['Район']\n",
    "# df_train['Город_рн'] = df_train['Город_рн'].fillna(df_train['Город'])\n",
    "# df_train = pd.concat([df_train, pd.get_dummies(df_train['Город_рн'], drop_first=True)], axis=1)\n",
    "# df_train = df_train.drop('Город_рн', axis=1)"
   ]
  },
  {
   "cell_type": "code",
   "execution_count": 72,
   "metadata": {},
   "outputs": [],
   "source": [
    "# df_train = pd.concat([df_train, pd.get_dummies(df_train['Город'], drop_first=True)], axis=1)\n",
    "# df_train = df_train.drop('Город', axis=1)"
   ]
  },
  {
   "cell_type": "code",
   "execution_count": 73,
   "metadata": {},
   "outputs": [],
   "source": [
    "# df_train = pd.concat([df_train, pd.get_dummies(df_train['Тип квартиры'], drop_first=True)], axis=1)\n",
    "# df_train = df_train.drop('Тип квартиры', axis=1)"
   ]
  },
  {
   "cell_type": "code",
   "execution_count": 74,
   "metadata": {},
   "outputs": [],
   "source": [
    "# df_train = pd.concat([df_train, pd.get_dummies(df_train['Санузел'], drop_first=True)], axis=1)\n",
    "# df_train = df_train.drop('Санузел', axis=1)"
   ]
  },
  {
   "cell_type": "code",
   "execution_count": 75,
   "metadata": {},
   "outputs": [],
   "source": []
  },
  {
   "cell_type": "code",
   "execution_count": 76,
   "metadata": {},
   "outputs": [],
   "source": [
    "# df_train = pd.concat([df_train, pd.get_dummies(df_train['Форма собственности'])], axis=1)\n",
    "# df_train = df_train.drop('Форма собственности', axis=1)"
   ]
  },
  {
   "cell_type": "code",
   "execution_count": 77,
   "metadata": {},
   "outputs": [],
   "source": [
    "# df_train = pd.concat([df_train, pd.get_dummies(df_train['Планировка'])], axis=1)\n",
    "# df_train = df_train.drop('Планировка', axis=1)"
   ]
  },
  {
   "cell_type": "code",
   "execution_count": 78,
   "metadata": {},
   "outputs": [],
   "source": []
  },
  {
   "cell_type": "code",
   "execution_count": 79,
   "metadata": {},
   "outputs": [],
   "source": [
    "# df_train = pd.concat([df_train, pd.get_dummies(df_train['Тип дома'])], axis=1)\n",
    "# df_train = df_train.drop(['Тип дома'], axis=1)"
   ]
  },
  {
   "cell_type": "code",
   "execution_count": 101,
   "metadata": {},
   "outputs": [
    {
     "data": {
      "text/plain": [
       "{dtype('uint8'): Index(['Красноярский край', 'Новосибирская область', 'Омская область',\n",
       "        'Пермский край', 'Свердловская область', 'Тюменская область',\n",
       "        'Челябинская область', '8 Марта', 'Абатское', 'Абрашино',\n",
       "        ...\n",
       "        'малоэтажка', 'общежитие', 'секционного типа', 'спецпроект', 'сталинка',\n",
       "        'ульяновка', 'хрущевка', 'дерево', 'кирпич', 'монолит'],\n",
       "       dtype='object', length=794),\n",
       " dtype('int64'): Index(['Этаж', 'Этажность', 'Количество балконов', 'Количество лоджий', 'Цена',\n",
       "        'Количество фотографий', 'ID', 'Rubrics'],\n",
       "       dtype='object'),\n",
       " dtype('float64'): Index(['Общая площадь', 'Жилая площадь', 'Площадь кухни', 'Наличие мебели',\n",
       "        'Наличие холодильника', 'Интернет', 'Торг', 'Чистая продажа', 'Ипотека',\n",
       "        'Возможен обмен', 'Внесен задаток', 'Находится в залоге',\n",
       "        'Коммунальные платежи включены', 'Год сдачи', 'Rooms', 'Remont'],\n",
       "       dtype='object'),\n",
       " dtype('O'): Index(['Рубрика', 'Улица', 'Номер дома', 'Район', 'Микрорайон', 'Ориентир'], dtype='object')}"
      ]
     },
     "execution_count": 101,
     "metadata": {},
     "output_type": "execute_result"
    }
   ],
   "source": [
    "df_train.columns.to_series().groupby(df_train.dtypes).groups"
   ]
  },
  {
   "cell_type": "code",
   "execution_count": 102,
   "metadata": {},
   "outputs": [],
   "source": [
    "df_train = df_train.drop(['Рубрика', 'Улица', 'Номер дома', 'Район', 'Микрорайон', 'Ориентир'],axis=1)"
   ]
  },
  {
   "cell_type": "code",
   "execution_count": 103,
   "metadata": {},
   "outputs": [
    {
     "data": {
      "text/plain": [
       "{dtype('uint8'): Index(['Красноярский край', 'Новосибирская область', 'Омская область',\n",
       "        'Пермский край', 'Свердловская область', 'Тюменская область',\n",
       "        'Челябинская область', '8 Марта', 'Абатское', 'Абрашино',\n",
       "        ...\n",
       "        'малоэтажка', 'общежитие', 'секционного типа', 'спецпроект', 'сталинка',\n",
       "        'ульяновка', 'хрущевка', 'дерево', 'кирпич', 'монолит'],\n",
       "       dtype='object', length=794),\n",
       " dtype('int64'): Index(['Этаж', 'Этажность', 'Количество балконов', 'Количество лоджий', 'Цена',\n",
       "        'Количество фотографий', 'ID', 'Rubrics'],\n",
       "       dtype='object'),\n",
       " dtype('float64'): Index(['Общая площадь', 'Жилая площадь', 'Площадь кухни', 'Наличие мебели',\n",
       "        'Наличие холодильника', 'Интернет', 'Торг', 'Чистая продажа', 'Ипотека',\n",
       "        'Возможен обмен', 'Внесен задаток', 'Находится в залоге',\n",
       "        'Коммунальные платежи включены', 'Год сдачи', 'Rooms', 'Remont'],\n",
       "       dtype='object')}"
      ]
     },
     "execution_count": 103,
     "metadata": {},
     "output_type": "execute_result"
    }
   ],
   "source": [
    "df_train.columns.to_series().groupby(df_train.dtypes).groups"
   ]
  },
  {
   "cell_type": "code",
   "execution_count": null,
   "metadata": {},
   "outputs": [],
   "source": []
  },
  {
   "cell_type": "code",
   "execution_count": 105,
   "metadata": {},
   "outputs": [],
   "source": [
    "X = df_train.drop(['Цена', 'ID'], axis=1)\n",
    "y = df_train['Цена']"
   ]
  },
  {
   "cell_type": "code",
   "execution_count": 106,
   "metadata": {},
   "outputs": [],
   "source": [
    "from sklearn.ensemble import RandomForestRegressor"
   ]
  },
  {
   "cell_type": "code",
   "execution_count": 107,
   "metadata": {},
   "outputs": [],
   "source": [
    "RF_model = RandomForestRegressor(random_state=123, \n",
    "                               n_jobs=-1)\n"
   ]
  },
  {
   "cell_type": "code",
   "execution_count": 108,
   "metadata": {},
   "outputs": [],
   "source": [
    "from sklearn.model_selection import train_test_split\n",
    "X_train, X_valid, y_train, y_valid = train_test_split(X, y, random_state=123, test_size=0.2)"
   ]
  },
  {
   "cell_type": "code",
   "execution_count": null,
   "metadata": {},
   "outputs": [],
   "source": []
  },
  {
   "cell_type": "code",
   "execution_count": 135,
   "metadata": {},
   "outputs": [],
   "source": [
    "# RF_model.fit(X_train, y_train)"
   ]
  },
  {
   "cell_type": "code",
   "execution_count": null,
   "metadata": {},
   "outputs": [],
   "source": []
  }
 ],
 "metadata": {
  "kernelspec": {
   "display_name": "Python 3",
   "language": "python",
   "name": "python3"
  },
  "language_info": {
   "codemirror_mode": {
    "name": "ipython",
    "version": 3
   },
   "file_extension": ".py",
   "mimetype": "text/x-python",
   "name": "python",
   "nbconvert_exporter": "python",
   "pygments_lexer": "ipython3",
   "version": "3.7.1"
  }
 },
 "nbformat": 4,
 "nbformat_minor": 2
}
